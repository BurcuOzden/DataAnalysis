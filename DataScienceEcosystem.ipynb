{
  "nbformat": 4,
  "nbformat_minor": 0,
  "metadata": {
    "colab": {
      "provenance": [],
      "toc_visible": true
    },
    "kernelspec": {
      "name": "python3",
      "display_name": "Python 3"
    },
    "language_info": {
      "name": "python"
    }
  },
  "cells": [
    {
      "cell_type": "markdown",
      "source": [
        "# Data Science Tools and Ecosystem"
      ],
      "metadata": {
        "id": "vjTIFfV0rFuE"
      }
    },
    {
      "cell_type": "markdown",
      "source": [
        "In this notebook, Data Science Tools and Ecosystem are summarized."
      ],
      "metadata": {
        "id": "nE98IxTyrmUT"
      }
    },
    {
      "cell_type": "markdown",
      "source": [
        "**Objectives**\n",
        "\n",
        "_Popular languages for Data Science_\n",
        "- Python\n",
        "- R\n",
        "- Java\n",
        "- C"
      ],
      "metadata": {
        "id": "tdiA3HXyug7d"
      }
    },
    {
      "cell_type": "markdown",
      "source": [
        "Some of the popular languages that Data Scientists use are:\n",
        "1. Python\n",
        "2. Java\n",
        "3. R\n",
        "4. C++"
      ],
      "metadata": {
        "id": "A-68Ix1xr7Un"
      }
    },
    {
      "cell_type": "markdown",
      "source": [
        "Some of the commonly used libraries used by Data Scientists include:\n",
        "1. NumPy\n",
        "2. Keras\n",
        "3. TensorFlow\n",
        "4. Pandas"
      ],
      "metadata": {
        "id": "X5y4eUwNsRRI"
      }
    },
    {
      "cell_type": "markdown",
      "source": [
        "| Data Science Tools |\n",
        "----------------------\n",
        "| R studio |\n",
        "| Jupyter Notebook |\n",
        "| Visual Studio Code |"
      ],
      "metadata": {
        "id": "U4lZ-6lts0D7"
      }
    },
    {
      "cell_type": "markdown",
      "source": [
        "### Below are a few examples of evaluating arithmetic expressions in Python:\n"
      ],
      "metadata": {
        "id": "o3jXGwjktTIi"
      }
    },
    {
      "cell_type": "code",
      "source": [
        "# This a simple arithmetic expression to mutiply then add integers\n",
        "(3*4)+5"
      ],
      "metadata": {
        "colab": {
          "base_uri": "https://localhost:8080/"
        },
        "id": "UGk1fyq8tB3u",
        "outputId": "d2683e6d-43a1-46eb-c092-8024bc9aa2e0"
      },
      "execution_count": 2,
      "outputs": [
        {
          "output_type": "execute_result",
          "data": {
            "text/plain": [
              "17"
            ]
          },
          "metadata": {},
          "execution_count": 2
        }
      ]
    },
    {
      "cell_type": "code",
      "source": [
        "min_to_hour = 200/60\n",
        "print(min_to_hour)"
      ],
      "metadata": {
        "colab": {
          "base_uri": "https://localhost:8080/"
        },
        "id": "CsWaSmeutuei",
        "outputId": "f03e9272-b145-4cb0-fa0a-e7c69c64a360"
      },
      "execution_count": 3,
      "outputs": [
        {
          "output_type": "stream",
          "name": "stdout",
          "text": [
            "3.3333333333333335\n"
          ]
        }
      ]
    },
    {
      "cell_type": "markdown",
      "source": [],
      "metadata": {
        "id": "CVCx2t6su_-L"
      }
    },
    {
      "cell_type": "markdown",
      "source": [
        "## Author\n",
        "Burcu Ozden"
      ],
      "metadata": {
        "id": "XMqyKGBpvCY0"
      }
    },
    {
      "cell_type": "code",
      "source": [],
      "metadata": {
        "id": "ezXLmZoduEZO"
      },
      "execution_count": null,
      "outputs": []
    }
  ]
}